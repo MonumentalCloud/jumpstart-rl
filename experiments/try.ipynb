{
 "cells": [
  {
   "cell_type": "code",
   "execution_count": 6,
   "metadata": {},
   "outputs": [
    {
     "ename": "IndexError",
     "evalue": "invalid index to scalar variable.",
     "output_type": "error",
     "traceback": [
      "\u001b[0;31m---------------------------------------------------------------------------\u001b[0m",
      "\u001b[0;31mIndexError\u001b[0m                                Traceback (most recent call last)",
      "\u001b[1;32m/home/ubuntu/jjlee/jumpstart-rl/experiments/try.ipynb Cell 1\u001b[0m line \u001b[0;36m2\n\u001b[1;32m     <a href='vscode-notebook-cell://ssh-remote%2Bgwangju/home/ubuntu/jjlee/jumpstart-rl/experiments/try.ipynb#W0sdnNjb2RlLXJlbW90ZQ%3D%3D?line=20'>21</a>\u001b[0m             \u001b[39mbreak\u001b[39;00m\n\u001b[1;32m     <a href='vscode-notebook-cell://ssh-remote%2Bgwangju/home/ubuntu/jjlee/jumpstart-rl/experiments/try.ipynb#W0sdnNjb2RlLXJlbW90ZQ%3D%3D?line=21'>22</a>\u001b[0m     \u001b[39mreturn\u001b[39;00m x_path, y_path\n\u001b[0;32m---> <a href='vscode-notebook-cell://ssh-remote%2Bgwangju/home/ubuntu/jjlee/jumpstart-rl/experiments/try.ipynb#W0sdnNjb2RlLXJlbW90ZQ%3D%3D?line=22'>23</a>\u001b[0m x, y \u001b[39m=\u001b[39m extract_path(env\u001b[39m.\u001b[39;49mbad_oracle)\n\u001b[1;32m     <a href='vscode-notebook-cell://ssh-remote%2Bgwangju/home/ubuntu/jjlee/jumpstart-rl/experiments/try.ipynb#W0sdnNjb2RlLXJlbW90ZQ%3D%3D?line=23'>24</a>\u001b[0m env\u001b[39m.\u001b[39mrender_path(x, y)\n",
      "\u001b[1;32m/home/ubuntu/jjlee/jumpstart-rl/experiments/try.ipynb Cell 1\u001b[0m line \u001b[0;36m1\n\u001b[1;32m     <a href='vscode-notebook-cell://ssh-remote%2Bgwangju/home/ubuntu/jjlee/jumpstart-rl/experiments/try.ipynb#W0sdnNjb2RlLXJlbW90ZQ%3D%3D?line=13'>14</a>\u001b[0m state \u001b[39m=\u001b[39m env\u001b[39m.\u001b[39mreset()\n\u001b[1;32m     <a href='vscode-notebook-cell://ssh-remote%2Bgwangju/home/ubuntu/jjlee/jumpstart-rl/experiments/try.ipynb#W0sdnNjb2RlLXJlbW90ZQ%3D%3D?line=14'>15</a>\u001b[0m \u001b[39mwhile\u001b[39;00m \u001b[39mTrue\u001b[39;00m:\n\u001b[0;32m---> <a href='vscode-notebook-cell://ssh-remote%2Bgwangju/home/ubuntu/jjlee/jumpstart-rl/experiments/try.ipynb#W0sdnNjb2RlLXJlbW90ZQ%3D%3D?line=15'>16</a>\u001b[0m     action \u001b[39m=\u001b[39m policy\u001b[39m.\u001b[39;49mpredict(state)\n\u001b[1;32m     <a href='vscode-notebook-cell://ssh-remote%2Bgwangju/home/ubuntu/jjlee/jumpstart-rl/experiments/try.ipynb#W0sdnNjb2RlLXJlbW90ZQ%3D%3D?line=16'>17</a>\u001b[0m     state, _, done, _, _ \u001b[39m=\u001b[39m env\u001b[39m.\u001b[39mstep(action)\n\u001b[1;32m     <a href='vscode-notebook-cell://ssh-remote%2Bgwangju/home/ubuntu/jjlee/jumpstart-rl/experiments/try.ipynb#W0sdnNjb2RlLXJlbW90ZQ%3D%3D?line=17'>18</a>\u001b[0m     x_path\u001b[39m.\u001b[39mappend(env\u001b[39m.\u001b[39magent_position[\u001b[39m0\u001b[39m])\n",
      "File \u001b[0;32m~/jjlee/jumpstart-rl/experiments/gridworld.py:21\u001b[0m, in \u001b[0;36mBadOracle.predict\u001b[0;34m(self, obs, *args, **kwargs)\u001b[0m\n\u001b[1;32m     16\u001b[0m \u001b[39mdef\u001b[39;00m \u001b[39mpredict\u001b[39m(\u001b[39mself\u001b[39m, obs, \u001b[39m*\u001b[39margs, \u001b[39m*\u001b[39m\u001b[39m*\u001b[39mkwargs):\n\u001b[1;32m     17\u001b[0m     \u001b[39m# Define the oracle policy that starts from the bottom-left corner and moves towards the goal state\u001b[39;00m\n\u001b[1;32m     18\u001b[0m     \u001b[39m# First it moves towards the right, and once it hits the wall, it moves upwards\u001b[39;00m\n\u001b[1;32m     19\u001b[0m     \u001b[39m# Tabular policy that maps state to action\u001b[39;00m\n\u001b[1;32m     20\u001b[0m     \u001b[39m# Until the agent reaches the bottom-right corner, keep moving right\u001b[39;00m\n\u001b[0;32m---> 21\u001b[0m     \u001b[39mif\u001b[39;00m obs[\u001b[39m0\u001b[39;49m][\u001b[39m0\u001b[39;49m] \u001b[39m<\u001b[39m \u001b[39mself\u001b[39m\u001b[39m.\u001b[39mgrid_size:\n\u001b[1;32m     22\u001b[0m         action \u001b[39m=\u001b[39m np\u001b[39m.\u001b[39marray([\u001b[39m1\u001b[39m, \u001b[39m0\u001b[39m])\n\u001b[1;32m     23\u001b[0m     \u001b[39m# Once the agent reaches the bottom-right corner, keep moving upwards\u001b[39;00m\n\u001b[1;32m     24\u001b[0m     \u001b[39melse\u001b[39;00m:\n",
      "\u001b[0;31mIndexError\u001b[0m: invalid index to scalar variable."
     ]
    }
   ],
   "source": [
    "import sys\n",
    "sys.path.append('/home/ubuntu/jjlee/jumpstart-rl/')\n",
    "from experiments.gridworld import ContinuousGridworld\n",
    "from gymnasium.core import Wrapper\n",
    "from stable_baselines3 import SAC\n",
    "from gym.core import Env\n",
    "from src.jsrl.jsrl import get_jsrl_algorithm\n",
    "\n",
    "env = ContinuousGridworld(seed=1)\n",
    "\n",
    "def extract_path(policy):\n",
    "    x_path = []\n",
    "    y_path = []\n",
    "    state = env.reset()\n",
    "    while True:\n",
    "        action = policy.predict([state])\n",
    "        state, _, done, _, _ = env.step(action)\n",
    "        x_path.append(env.agent_position[0])\n",
    "        y_path.append(env.agent_position[1])\n",
    "        if done:\n",
    "            break\n",
    "    return x_path, y_path\n",
    "x, y = extract_path(env.bad_oracle)\n",
    "env.render_path(x, y)\n"
   ]
  },
  {
   "cell_type": "code",
   "execution_count": null,
   "metadata": {},
   "outputs": [],
   "source": [
    "def extract_path(policy):\n",
    "    x_path = []\n",
    "    y_path = []\n",
    "    state = env.reset()\n",
    "    while True:\n",
    "        action = policy.predict()\n",
    "        state, _, done, _ = env.step(action)\n",
    "        x_path.append(env.agent_position[0])\n",
    "        y_path.append(env.agent_position[1])\n",
    "        if done:\n",
    "            break\n",
    "    return x_path, y_path\n",
    "x, y = extract_path()\n",
    "env.render_path(x, y)"
   ]
  },
  {
   "cell_type": "code",
   "execution_count": null,
   "metadata": {},
   "outputs": [],
   "source": []
  }
 ],
 "metadata": {
  "kernelspec": {
   "display_name": "jsrl",
   "language": "python",
   "name": "python3"
  },
  "language_info": {
   "codemirror_mode": {
    "name": "ipython",
    "version": 3
   },
   "file_extension": ".py",
   "mimetype": "text/x-python",
   "name": "python",
   "nbconvert_exporter": "python",
   "pygments_lexer": "ipython3",
   "version": "3.8.16"
  }
 },
 "nbformat": 4,
 "nbformat_minor": 2
}
